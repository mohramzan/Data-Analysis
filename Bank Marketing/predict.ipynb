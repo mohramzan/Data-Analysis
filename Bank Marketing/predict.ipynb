{
 "cells": [
  {
   "cell_type": "code",
   "execution_count": 19,
   "id": "ad4a6157",
   "metadata": {},
   "outputs": [],
   "source": [
    "import gradio as gr\n",
    "from joblib import load\n",
    "import pandas as pd"
   ]
  },
  {
   "cell_type": "code",
   "execution_count": 20,
   "id": "bfc2874b",
   "metadata": {},
   "outputs": [],
   "source": [
    "dv , model = load(\"train_model.joblib\")"
   ]
  },
  {
   "cell_type": "code",
   "execution_count": 21,
   "id": "200b6f31",
   "metadata": {},
   "outputs": [],
   "source": [
    "# creating a predict function to be passed into gradio UI\n",
    "def predict(age, job, marital, education, default, housing,\n",
    "            loan, contact, month,day_of_week,campaign,pdays,\n",
    "            previous,poutcome,emp_var_rate,cons_price_idx,cons_conf_idx):\n",
    "  \n",
    "    customer = {\n",
    "        'age': age,\n",
    "        'job': job,\n",
    "        'marital': marital,\n",
    "        'education': education,\n",
    "        'default': default, \n",
    "        'housing': housing,\n",
    "        'loan': loan,\n",
    "        'contact': contact,\n",
    "        'month': month,\n",
    "        'day_of_week': day_of_week,\n",
    "        'campaign': campaign,\n",
    "        'pdays': pdays,\n",
    "        'previous': previous,\n",
    "        'poutcome': poutcome,\n",
    "        'emp_var_rate': emp_var_rate,\n",
    "        'cons_price_idx': cons_price_idx,\n",
    "        'cons_conf_idx': cons_conf_idx,\n",
    "        \n",
    "    }\n",
    "    \n",
    "    print(customer)\n",
    "    df_transformed = dv.transform([customer])\n",
    "    prediction = model.predict_proba(df_transformed)[:,1]\n",
    "    \n",
    "#     Desposited = prediction >= 0.50\n",
    "    \n",
    "#     result = {\n",
    "#         \"deposit_probability\": float(prediction),\n",
    "#         \"Deposited\": bool(Deposited)\n",
    "#     } \n",
    "    print(f' The probabilty of depositing in the bank is  : {str(prediction)}')\n",
    "    \n",
    "    return str(prediction)"
   ]
  },
  {
   "cell_type": "code",
   "execution_count": 25,
   "id": "8b2299e9",
   "metadata": {},
   "outputs": [
    {
     "name": "stdout",
     "output_type": "stream",
     "text": [
      "Running on local URL:  http://127.0.0.1:7875/\n",
      "Running on public URL: https://39778.gradio.app\n",
      "\n",
      "This share link will expire in 72 hours. To get longer links, send an email to: support@gradio.app\n"
     ]
    },
    {
     "data": {
      "text/html": [
       "\n",
       "        <iframe\n",
       "            width=\"900\"\n",
       "            height=\"500\"\n",
       "            src=\"https://39778.gradio.app\"\n",
       "            frameborder=\"0\"\n",
       "            allowfullscreen\n",
       "            \n",
       "        ></iframe>\n",
       "        "
      ],
      "text/plain": [
       "<IPython.lib.display.IFrame at 0x1a26c0e9ca0>"
      ]
     },
     "metadata": {},
     "output_type": "display_data"
    },
    {
     "data": {
      "text/plain": [
       "(<Flask 'gradio.networking'>,\n",
       " 'http://127.0.0.1:7875/',\n",
       " 'https://39778.gradio.app')"
      ]
     },
     "execution_count": 25,
     "metadata": {},
     "output_type": "execute_result"
    },
    {
     "name": "stdout",
     "output_type": "stream",
     "text": [
      "{'age': 50, 'job': 'Admin.', 'marital': 'Divorced', 'education': 'Basic.9y', 'default': 1, 'housing': 1, 'loan': 1, 'contact': 1, 'month': 'Apr', 'day_of_week': 'Thu', 'campaign': 14, 'pdays': 10, 'previous': 3, 'poutcome': 1, 'emp_var_rate': -1, 'cons_price_idx': 93, 'cons_conf_idx': -38}\n",
      " The probabilty of depositing in the bank is  : [0.42379493]\n"
     ]
    },
    {
     "name": "stderr",
     "output_type": "stream",
     "text": [
      "C:\\Users\\shafay\\anaconda3\\envs\\banking\\lib\\site-packages\\sklearn\\base.py:445: UserWarning: X does not have valid feature names, but RandomForestClassifier was fitted with feature names\n",
      "  warnings.warn(\n"
     ]
    }
   ],
   "source": [
    "age = gr.inputs.Slider(minimum=1,default = 35, maximum=100, step=1,label = 'Age') #default=data['age'].mean()\n",
    "job = gr.inputs.Dropdown(choices=[\"Housemaid\", \"Services\",\"Admin.\",\"Blue-Collar\",\"Technician\",\n",
    "                                 \"Retired\",\"Management\",\"Unemployed\",\"Self-Employed\",\"Unknown\",\n",
    "                                  \"Entrepreneur\",\"Student\"],label = 'Job')\n",
    "marital = gr.inputs.Dropdown(choices=[\"Married\", \"Single\",\"Divorced\",\"Unknown\"],label = 'Marital')\n",
    "education = gr.inputs.Dropdown(choices=[\"Basic.4y\", \"High.School\",\"Basic.6y\",\"Basic.9y\",\"Professional.Course\",\n",
    "                                 \"Unknown\",\"University.Degree\",\"Illiterate\"],label = 'Education')\n",
    "default = gr.inputs.Radio([\"Yes\", \"No\",\"Unknown\"],label = 'Default',type=\"index\")\n",
    "housing = gr.inputs.Radio(choices=[\"Yes\", \"No\",\"Unknown\"],label = 'Housing',type=\"index\")\n",
    "loan = gr.inputs.Radio([\"Yes\", \"No\",\"Unknown\"],type=\"index\",label = 'Loan')\n",
    "contact = gr.inputs.Radio([\"Telephone\", \"Cellular\"],type = \"index\",label = 'Contact')\n",
    "month = gr.inputs.Dropdown(choices=['Mar', 'Apr','May', 'Jun', 'Jul', 'Aug','Sep','Oct', 'Nov', 'Dec'],label = 'Month')\n",
    "day_of_week = gr.inputs.Dropdown(choices=['Mon', 'Tue', 'Wed', 'Thu', 'Fri'],label = 'Day of Week')\n",
    "campaign = gr.inputs.Slider(minimum=1,default = 2, maximum=56, step = 1,label = 'Campaign') \n",
    "pdays = gr.inputs.Slider(minimum=0,default = 0, maximum=27, step = 1,label = 'Last Contact(in days)') \n",
    "previous = gr.inputs.Slider(minimum=0,default = 0, maximum=7, step = 1,label = 'Previous Contacts') \n",
    "poutcome = gr.inputs.Radio([\"Nonexistent\", \"Failure\",\"Success\"],label = 'Previous Outcome',type=\"index\")\n",
    "emp_var_rate = gr.inputs.Slider(minimum=-3,default = 1, maximum=1,step= 1, label = 'Employment Variation Rate')\n",
    "cons_price_idx = gr.inputs.Slider(minimum=92,default = 94, maximum=95,step = 1, label = 'Consumer Price Index ')\n",
    "cons_conf_idx = gr.inputs.Slider(minimum=-51,default = -42, maximum=-27, step = 1, label = 'Consumer Confidence Index')\n",
    "\n",
    "\n",
    "\n",
    "\n",
    "# heart_disease = gr.inputs.Dropdown(choices=[\"1\", \"0\"],label ='heart_disease')\n",
    "# ever_married = gr.inputs.Dropdown(choices=[\"Yes\", \"No\"], label ='ever_married')\n",
    "# work_type = gr.inputs.Dropdown(choices=[\"children\", \"Govt_job\",\"Never_worked\",\"Private\",\"Self-employed\"],label = 'work_type')\n",
    "# Residence_type = gr.inputs.Dropdown(choices=[\"Urban\", \"Rural\"],label = 'Residence_type')\n",
    "# avg_glucose_level =\tgr.inputs.Slider(minimum=-55, maximum=300, default=data['avg_glucose_level'].mean(), label = 'avg_glucose_level')\n",
    "# bmi = gr.inputs.Slider(minimum=-10, maximum=100, default=data['bmi'].mean(), label = 'bmi')\n",
    "# smoking_status = gr.inputs.Dropdown(choices=[\"Unknown\", \"smokes\",\"never_smoked\", \"formerly_smoked\"], label ='smoking_status')\n",
    "\n",
    "iface = gr.Interface(predict,[age, job, marital, education, default, housing,\n",
    "            loan, contact, month,day_of_week,campaign,pdays,\n",
    "            previous,poutcome,emp_var_rate,cons_price_idx,cons_conf_idx],\n",
    "             outputs = \"number\",\n",
    "            interpretation=\"default\",verbose = True\n",
    "             )\n",
    "iface.launch(share=True)"
   ]
  },
  {
   "cell_type": "code",
   "execution_count": null,
   "id": "4172b1b2",
   "metadata": {},
   "outputs": [],
   "source": []
  },
  {
   "cell_type": "code",
   "execution_count": null,
   "id": "a04a0c94",
   "metadata": {},
   "outputs": [],
   "source": []
  }
 ],
 "metadata": {
  "kernelspec": {
   "display_name": "Python 3 (ipykernel)",
   "language": "python",
   "name": "python3"
  },
  "language_info": {
   "codemirror_mode": {
    "name": "ipython",
    "version": 3
   },
   "file_extension": ".py",
   "mimetype": "text/x-python",
   "name": "python",
   "nbconvert_exporter": "python",
   "pygments_lexer": "ipython3",
   "version": "3.9.7"
  }
 },
 "nbformat": 4,
 "nbformat_minor": 5
}
